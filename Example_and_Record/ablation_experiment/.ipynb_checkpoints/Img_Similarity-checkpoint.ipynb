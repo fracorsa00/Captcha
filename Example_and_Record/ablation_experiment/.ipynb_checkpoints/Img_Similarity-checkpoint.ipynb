{
 "cells": [
  {
   "cell_type": "markdown",
   "metadata": {},
   "source": [
    "# SSIM"
   ]
  },
  {
   "cell_type": "code",
   "execution_count": 23,
   "metadata": {},
   "outputs": [],
   "source": [
    "import numpy as np\n",
    "import matplotlib.pyplot as plt\n",
    "\n",
    "from skimage import  img_as_float#data,\n",
    "from skimage.metrics import structural_similarity as ssim\n",
    "from skimage.metrics import mean_squared_error\n",
    "from skimage.color import rgb2gray\n",
    "import skimage.io\n",
    "import os"
   ]
  },
  {
   "cell_type": "code",
   "execution_count": 24,
   "metadata": {},
   "outputs": [],
   "source": [
    "PATH = '/home/ning_a/Desktop/CAPTCHA/dataset_ablation/len_8/'\n",
    "img = skimage.io.imread(fname=PATH+\"clean/00foN9IM_95.png\")\n",
    "img = rgb2gray(img)\n",
    "img_noise = skimage.io.imread(fname=PATH+\"org/00foN9IM_95.png\")\n",
    "img_noise = rgb2gray(img_noise)\n",
    "img_const = skimage.io.imread(fname=PATH+\"GAN/00foN9IM_95.png\")\n",
    "img_const = rgb2gray(img_const)"
   ]
  },
  {
   "cell_type": "code",
   "execution_count": 25,
   "metadata": {},
   "outputs": [
    {
     "data": {
      "text/plain": [
       "(1.0, 0.8065431720083386, 0.8806938414136491)"
      ]
     },
     "execution_count": 25,
     "metadata": {},
     "output_type": "execute_result"
    }
   ],
   "source": [
    "def get_similarity(path, file_name):\n",
    "    PATH = path\n",
    "    img = skimage.io.imread(fname=PATH+\"clean/\"+file_name)\n",
    "    img = rgb2gray(img)\n",
    "    img_noise = skimage.io.imread(fname=PATH+\"org/\"+file_name)\n",
    "    img_noise = rgb2gray(img_noise)\n",
    "    img_const = skimage.io.imread(fname=PATH+\"GAN/\"+file_name)\n",
    "    img_const = rgb2gray(img_const)\n",
    "    # img = img_as_float(data.camera())\n",
    "    rows, cols = img.shape\n",
    "\n",
    "    noise = np.ones_like(img) * 0.2 * (img.max() - img.min())\n",
    "    noise[np.random.random(size=noise.shape) > 0.5] *= -1\n",
    "    \n",
    "    mse_none = mean_squared_error(img, img)\n",
    "    ssim_none = ssim(img, img, data_range=img.max() - img.min())\n",
    "\n",
    "    mse_noise = mean_squared_error(img, img_noise)\n",
    "    ssim_noise = ssim(img, img_noise,\n",
    "                      data_range=img_noise.max() - img_noise.min())\n",
    "\n",
    "    mse_const = mean_squared_error(img, img_const)\n",
    "    ssim_const = ssim(img, img_const,\n",
    "                      data_range=img_const.max() - img_const.min())\n",
    "    return ssim_none, ssim_noise, ssim_const\n",
    "get_similarity(PATH, '00foN9IM_95.png')"
   ]
  },
  {
   "cell_type": "code",
   "execution_count": 28,
   "metadata": {},
   "outputs": [
    {
     "name": "stdout",
     "output_type": "stream",
     "text": [
      "total_org: 0.7414783669008482\n",
      "total_gan: 0.9106231235650758\n"
     ]
    }
   ],
   "source": [
    "PATH = '/home/ning_a/Desktop/CAPTCHA/dataset_ablation/len_5/'\n",
    "file_list = os.listdir(PATH+'org/')\n",
    "# Read a list\n",
    "total_org = 0\n",
    "total_gan = 0\n",
    "for file_name in os.listdir(PATH+'org/'):\n",
    "    _, temp_org, temp_gan = get_similarity(PATH, file_name)\n",
    "    total_org += temp_org\n",
    "    total_gan += temp_gan\n",
    "print(\"total_org:\",total_org/500)\n",
    "print(\"total_gan:\",total_gan/500)"
   ]
  },
  {
   "cell_type": "code",
   "execution_count": null,
   "metadata": {},
   "outputs": [],
   "source": []
  }
 ],
 "metadata": {
  "kernelspec": {
   "display_name": "Python 3",
   "language": "python",
   "name": "python3"
  },
  "language_info": {
   "codemirror_mode": {
    "name": "ipython",
    "version": 3
   },
   "file_extension": ".py",
   "mimetype": "text/x-python",
   "name": "python",
   "nbconvert_exporter": "python",
   "pygments_lexer": "ipython3",
   "version": "3.6.9"
  }
 },
 "nbformat": 4,
 "nbformat_minor": 2
}
