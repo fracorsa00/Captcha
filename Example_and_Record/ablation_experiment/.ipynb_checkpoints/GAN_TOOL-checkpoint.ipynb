{
 "cells": [
  {
   "cell_type": "code",
   "execution_count": 2,
   "metadata": {},
   "outputs": [],
   "source": [
    "import sys, os\n",
    "sys.path.insert(1, '/home/ning_a/Desktop/CAPTCHA/base_solver/base_solver_char')\n",
    "import numpy as np\n",
    "import torch\n",
    "import torch.nn as nn\n",
    "from torch.autograd import Variable\n",
    "from torch.utils.data import DataLoader, Dataset\n",
    "from torchvision.utils import save_image\n",
    "import torchvision.transforms as transforms\n",
    "import captcha_setting\n",
    "import my_dataset\n",
    "from captcha_cnn_model import CNN, Generator\n",
    "import cv2 as cv\n",
    "from matplotlib import pyplot as plt\n",
    "from PIL import Image\n",
    "import copy\n",
    "import operator\n",
    "\n",
    "generator = Generator()\n",
    "generator.load_state_dict(torch.load('/home/ning_a/Desktop/CAPTCHA/base_solver/base_solver_char/7800.pkl'))\n",
    "generator.eval()\n",
    "device = torch.device(\"cuda:0\" if torch.cuda.is_available() else \"cpu\")"
   ]
  },
  {
   "cell_type": "code",
   "execution_count": null,
   "metadata": {},
   "outputs": [],
   "source": [
    "def get_similarity(path, file_name):\n",
    "    PATH = path\n",
    "    img = skimage.io.imread(fname=PATH+\"clean/00foN9IM_95.png\")\n",
    "    img = rgb2gray(img)\n",
    "    img_noise = skimage.io.imread(fname=PATH+\"org/00foN9IM_95.png\")\n",
    "    img_noise = rgb2gray(img_noise)\n",
    "    img_const = skimage.io.imread(fname=PATH+\"GAN/00foN9IM_95.png\")\n",
    "    img_const = rgb2gray(img_const)\n",
    "    # img = img_as_float(data.camera())\n",
    "    rows, cols = img.shape\n",
    "\n",
    "    noise = np.ones_like(img) * 0.2 * (img.max() - img.min())\n",
    "    noise[np.random.random(size=noise.shape) > 0.5] *= -1\n",
    "\n",
    "    # img_noise = img + noise\n",
    "    # img_const = img + abs(noise)\n",
    "\n",
    "    fig, axes = plt.subplots(nrows=1, ncols=3, figsize=(10, 4),\n",
    "                             sharex=True, sharey=True)\n",
    "    ax = axes.ravel()\n",
    "\n",
    "    mse_none = mean_squared_error(img, img)\n",
    "    ssim_none = ssim(img, img, data_range=img.max() - img.min())\n",
    "\n",
    "    mse_noise = mean_squared_error(img, img_noise)\n",
    "    ssim_noise = ssim(img, img_noise,\n",
    "                      data_range=img_noise.max() - img_noise.min())\n",
    "\n",
    "    mse_const = mean_squared_error(img, img_const)\n",
    "    ssim_const = ssim(img, img_const,\n",
    "                      data_range=img_const.max() - img_const.min())\n",
    "    return ssim_none, ssim_noise, ssim_const"
   ]
  },
  {
   "cell_type": "code",
   "execution_count": 9,
   "metadata": {},
   "outputs": [
    {
     "name": "stderr",
     "output_type": "stream",
     "text": [
      "/usr/local/lib/python3.6/dist-packages/ipykernel_launcher.py:15: UserWarning: To copy construct from a tensor, it is recommended to use sourceTensor.clone().detach() or sourceTensor.clone().detach().requires_grad_(True), rather than torch.tensor(sourceTensor).\n",
      "  from ipykernel import kernelapp as app\n"
     ]
    }
   ],
   "source": [
    "PATH = '/home/ning_a/Desktop/CAPTCHA/dataset_ablation/len_4/'\n",
    "transform = transforms.Compose([\n",
    "    # transforms.ColorJitter(),\n",
    "    transforms.Grayscale(),\n",
    "#     transforms.Lambda(gaussian_blur),\n",
    "    transforms.ToTensor()\n",
    "])\n",
    "file_list = os.listdir(PATH)\n",
    "# Read a list\n",
    "for file_name in os.listdir(PATH+'org/'):\n",
    "    image = Image.open(PATH+'org/'+file_name)\n",
    "#     image = image.resize((160,60), Image.ANTIALIAS)\n",
    "    image = transform(image)\n",
    "\n",
    "    imgs = torch.tensor(image).float()\n",
    "    new_img = generator(imgs)\n",
    "    new_img2 = new_img.data.cpu().numpy()\n",
    "    imgs2 = imgs.data.cpu().numpy()\n",
    "    imgs2 = imgs2[0][0]\n",
    "    imgs2 = imgs2*255\n",
    "    target_img = new_img2[0][0]\n",
    "    target_img = target_img*255\n",
    "    im = Image.fromarray(target_img)\n",
    "    im = im.convert('RGB')\n",
    "    im.save(PATH+'GAN/'+file_name)"
   ]
  },
  {
   "cell_type": "code",
   "execution_count": null,
   "metadata": {},
   "outputs": [],
   "source": []
  }
 ],
 "metadata": {
  "kernelspec": {
   "display_name": "Python 3",
   "language": "python",
   "name": "python3"
  },
  "language_info": {
   "codemirror_mode": {
    "name": "ipython",
    "version": 3
   },
   "file_extension": ".py",
   "mimetype": "text/x-python",
   "name": "python",
   "nbconvert_exporter": "python",
   "pygments_lexer": "ipython3",
   "version": "3.6.9"
  }
 },
 "nbformat": 4,
 "nbformat_minor": 2
}
