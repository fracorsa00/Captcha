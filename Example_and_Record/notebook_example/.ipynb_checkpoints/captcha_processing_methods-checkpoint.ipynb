{
 "cells": [
  {
   "cell_type": "code",
   "execution_count": 204,
   "metadata": {},
   "outputs": [],
   "source": [
    "import cv2 as cv\n",
    "import os\n",
    "from matplotlib import pyplot as plt\n",
    "import numpy as np\n",
    "SAMPLE1_PATH = '../data/temp_result/0.png'\n",
    "SAMPLE2_PATH = '../data/temp_result/1.png'\n",
    "SAMPLE3_PATH = '../data/temp_result/2.png'\n",
    "SAMPLE4_PATH = '../data/temp_result/3.png'\n",
    "SAMPLE5_PATH = '../data/temp_result/4.png'\n",
    "SAMPLE6_PATH = '../data/temp_result/5.png'\n",
    "SAMPLE7_PATH = '../data/temp_result/6.png'\n",
    "SAMPLE8_PATH = '../data/temp_result/7.png'\n",
    "SAMPLE9_PATH = '/home/ning_a/Desktop/CAPTCHA/dark_web_captcha/rescator_me/444.png'\n",
    "#SAMPLE9_PATH = '/home/ning_a/Desktop/CAPTCHA/dark_web_captcha/rescator_data/3087.png'"
   ]
  },
  {
   "cell_type": "markdown",
   "metadata": {},
   "source": [
    "## Load & Normalization"
   ]
  },
  {
   "cell_type": "code",
   "execution_count": 205,
   "metadata": {
    "scrolled": true
   },
   "outputs": [
    {
     "data": {
      "image/png": "[encoded data removed]",
      "text/plain": [
       "<Figure size 432x288 with 1 Axes>"
      ]
     },
     "metadata": {
      "needs_background": "light"
     },
     "output_type": "display_data"
    },
    {
     "data": {
      "image/png": "[encoded data removed]",
      "text/plain": [
       "<Figure size 432x288 with 1 Axes>"
      ]
     },
     "metadata": {
      "needs_background": "light"
     },
     "output_type": "display_data"
    }
   ],
   "source": [
    "img = cv.imread(SAMPLE9_PATH)\n",
    "plt.imshow(img)\n",
    "plt.show()\n",
    "n_img = np.zeros((img.shape[0],img.shape[1]))\n",
    "img_aft = cv.normalize(img, n_img, 0,255,cv.NORM_MINMAX)\n",
    "plt.imshow(img_aft)\n",
    "plt.show()"
   ]
  },
  {
   "cell_type": "code",
   "execution_count": 206,
   "metadata": {},
   "outputs": [
    {
     "data": {
      "image/png": "[encoded data removed]",
      "text/plain": [
       "<Figure size 432x288 with 1 Axes>"
      ]
     },
     "metadata": {
      "needs_background": "light"
     },
     "output_type": "display_data"
    },
    {
     "name": "stdout",
     "output_type": "stream",
     "text": [
      "[[255 255 255 ... 255 255 255]\n",
      " [255 255 255 ... 255 255 255]\n",
      " [255 255 255 ... 255 255 255]\n",
      " ...\n",
      " [255 255 255 ... 255 255 255]\n",
      " [255 255 255 ... 255 255 255]\n",
      " [255 255 255 ... 255 255 255]]\n"
     ]
    }
   ],
   "source": [
    "gray = cv.cvtColor(img_aft,cv.COLOR_BGR2GRAY)\n",
    "ret, thresh = cv.threshold(gray,0,255,cv.THRESH_BINARY_INV+cv.THRESH_OTSU)\n",
    "ret, thresh_reverse = cv.threshold(gray,0,255,cv.THRESH_OTSU)\n",
    "#thresh_reverse = cv.cvtColor(thresh_reverse,cv.COLOR_BGR2GRAY)\n",
    "plt.imshow(thresh)\n",
    "plt.show()\n",
    "print(thresh_reverse)"
   ]
  },
  {
   "cell_type": "markdown",
   "metadata": {},
   "source": [
    "# Segmentation"
   ]
  },
  {
   "cell_type": "code",
   "execution_count": 207,
   "metadata": {},
   "outputs": [],
   "source": [
    "# im2,contours,hierarchy = cv.findContours(thresh,cv.RETR_TREE,cv.CHAIN_APPROX_SIMPLE)\n",
    "# for i in range(0,len(contours)):  \n",
    "#     x, y, w, h = cv.boundingRect(contours[i])   \n",
    "#     cv.rectangle(img, (x,y), (x+w,y+h), (153,153,0), 5)\n",
    "#     newimage=img[y+2:y+h-2,x+2:x+w-2] # 先用y确定高，再用x确定宽\n",
    "#     nrootdir=(\"cut_image/\")\n",
    "#     if not os.path.isdir(nrootdir):\n",
    "#         os.makedirs(nrootdir)\n",
    "#     cv.imwrite( nrootdir+str(i)+\".jpg\",newimage) \n",
    "#     print (x, y, w, h)\n"
   ]
  },
  {
   "cell_type": "markdown",
   "metadata": {},
   "source": [
    "# Blur Test"
   ]
  },
  {
   "cell_type": "code",
   "execution_count": 208,
   "metadata": {},
   "outputs": [
    {
     "data": {
      "image/png": "[encoded data removed]",
      "text/plain": [
       "<Figure size 432x288 with 1 Axes>"
      ]
     },
     "metadata": {
      "needs_background": "light"
     },
     "output_type": "display_data"
    }
   ],
   "source": [
    "img_aft2 = cv.GaussianBlur(thresh, (5,5), 0, 0)\n",
    "img_aft2 = cv.GaussianBlur(img_aft2, (1,1), 0, 0)\n",
    "n_img = np.zeros((img.shape[0],img.shape[1]))\n",
    "img_aft2 = cv.normalize(img_aft2, n_img, 0,255,cv.NORM_MINMAX)\n",
    "plt.imshow(img_aft2)\n",
    "plt.show()\n",
    "\n",
    "\n",
    "#gray = cv.cvtColor(img_aft2,cv.COLOR_BGR2GRAY)\n",
    "#ret, thresh = cv.threshold(gray,0,255,cv.THRESH_BINARY_INV+cv.THRESH_OTSU)\n",
    "#plt.imshow(thresh)\n",
    "#plt.show()"
   ]
  },
  {
   "cell_type": "markdown",
   "metadata": {},
   "source": [
    "# 锐化"
   ]
  },
  {
   "cell_type": "code",
   "execution_count": 209,
   "metadata": {},
   "outputs": [
    {
     "data": {
      "image/png": "[encoded data removed]",
      "text/plain": [
       "<Figure size 432x288 with 1 Axes>"
      ]
     },
     "metadata": {
      "needs_background": "light"
     },
     "output_type": "display_data"
    }
   ],
   "source": [
    "def custom_blur_demo(image):\n",
    "    kernel = np.array([[0, -1, 0], [-1, 5, -1], [0, -1, 0]], np.float32) #锐化\n",
    "    dst = cv.filter2D(image, -1, kernel=kernel)\n",
    "    plt.imshow(dst)\n",
    "    plt.show()\n",
    "custom_blur_demo(img_aft2)"
   ]
  },
  {
   "cell_type": "code",
   "execution_count": 210,
   "metadata": {
    "scrolled": false
   },
   "outputs": [
    {
     "data": {
      "image/png": "[encoded data removed]",
      "text/plain": [
       "<Figure size 432x288 with 1 Axes>"
      ]
     },
     "metadata": {
      "needs_background": "light"
     },
     "output_type": "display_data"
    }
   ],
   "source": [
    "n_img = np.zeros((img.shape[0],img.shape[1]))\n",
    "img_aft3 = cv.normalize(img_aft2, n_img, 0,255,cv.NORM_MINMAX)\n",
    "plt.imshow(img_aft3)\n",
    "plt.show()"
   ]
  },
  {
   "cell_type": "markdown",
   "metadata": {},
   "source": [
    "# Erosion & Dilation"
   ]
  },
  {
   "cell_type": "code",
   "execution_count": 211,
   "metadata": {},
   "outputs": [
    {
     "data": {
      "image/png": "[encoded data removed]",
      "text/plain": [
       "<Figure size 432x288 with 1 Axes>"
      ]
     },
     "metadata": {
      "needs_background": "light"
     },
     "output_type": "display_data"
    },
    {
     "data": {
      "image/png": "[encoded data removed]",
      "text/plain": [
       "<Figure size 432x288 with 1 Axes>"
      ]
     },
     "metadata": {
      "needs_background": "light"
     },
     "output_type": "display_data"
    }
   ],
   "source": [
    "kernel = np.ones((4,4),np.uint8)\n",
    "\n",
    "dilation = cv.dilate(img_aft3,kernel,iterations = 1)\n",
    "erosion = cv.erode(dilation,kernel,iterations = 1)\n",
    "\n",
    "dilation = cv.dilate(erosion,kernel,iterations = 1)\n",
    "erosion = cv.erode(dilation,kernel,iterations = 1)\n",
    "\n",
    "dilation = cv.dilate(erosion,kernel,iterations = 1)\n",
    "erosion = cv.erode(dilation,kernel,iterations = 1)\n",
    "\n",
    "dilation = cv.dilate(erosion,kernel,iterations = 1)\n",
    "erosion = cv.erode(dilation,kernel,iterations = 1)\n",
    "erosion2 = cv.erode(dilation,kernel,iterations = 2)\n",
    "\n",
    "#erosion = cv.erode(erosion,kernel,iterations = 1)\n",
    "#erosion = cv.erode(erosion,kernel,iterations = 1)\n",
    "#erosion = cv.erode(dilation,kernel,iterations = 1)\n",
    "ret, erosion2_thresh = cv.threshold(erosion,0,255,cv.THRESH_BINARY_INV+cv.THRESH_OTSU)\n",
    "#ret, thresh = cv.threshold(gray,0,255,cv.THRESH_OTSU)\n",
    "plt.imshow(erosion2)\n",
    "plt.show()\n",
    "plt.imshow(erosion2_thresh)\n",
    "plt.show()"
   ]
  },
  {
   "cell_type": "code",
   "execution_count": 212,
   "metadata": {},
   "outputs": [
    {
     "data": {
      "image/png": "[encoded data removed]",
      "text/plain": [
       "<Figure size 432x288 with 1 Axes>"
      ]
     },
     "metadata": {
      "needs_background": "light"
     },
     "output_type": "display_data"
    }
   ],
   "source": [
    "ret, thresh2 = cv.threshold(erosion2,100,255,0)\n",
    "plt.imshow(thresh2)\n",
    "plt.show()"
   ]
  },
  {
   "cell_type": "code",
   "execution_count": 213,
   "metadata": {
    "scrolled": true
   },
   "outputs": [
    {
     "data": {
      "image/png": "[encoded data removed]",
      "text/plain": [
       "<Figure size 432x288 with 1 Axes>"
      ]
     },
     "metadata": {
      "needs_background": "light"
     },
     "output_type": "display_data"
    }
   ],
   "source": [
    "kernel = np.ones((8,8),np.uint8)\n",
    "tophat = cv.morphologyEx(thresh2, cv.MORPH_TOPHAT, kernel)\n",
    "plt.imshow(tophat)\n",
    "plt.show()"
   ]
  },
  {
   "cell_type": "code",
   "execution_count": 214,
   "metadata": {},
   "outputs": [
    {
     "name": "stdout",
     "output_type": "stream",
     "text": [
      "15 9 6 8\n",
      "36 10 6 10\n",
      "56 17 6 10\n",
      "75 14 6 8\n",
      "95 13 8 10\n"
     ]
    },
    {
     "data": {
      "image/png": "[encoded data removed]",
      "text/plain": [
       "<Figure size 432x288 with 1 Axes>"
      ]
     },
     "metadata": {
      "needs_background": "light"
     },
     "output_type": "display_data"
    }
   ],
   "source": [
    "import copy\n",
    "from PIL import Image\n",
    "im2,contours,hierarchy = cv.findContours(thresh,cv.RETR_EXTERNAL,cv.CHAIN_APPROX_SIMPLE)\n",
    "filter_containor = []\n",
    "temp_img = copy.deepcopy(img)\n",
    "cur_contours = []\n",
    "#print(len(contours))\n",
    "for i in contours:\n",
    "    #print(i)\n",
    "    x, y, w, h = cv.boundingRect(i)   \n",
    "    cur_contours.append([x, y, w, h])\n",
    "    #break\n",
    "contours = sorted(cur_contours, key=operator.itemgetter(0))\n",
    "#print(len(contours))\n",
    "for i in range(0,len(contours)):  \n",
    "    x = contours[i][0]\n",
    "    y = contours[i][1]\n",
    "    w = contours[i][2] \n",
    "    h = contours[i][3]\n",
    "    #= cv.boundingRect(contours[i])   \n",
    "    newimage=thresh_reverse[y:y+h,x:x+w] # 先用y确定高，再用x确定宽\n",
    "    nrootdir=(\"cut_image/\")\n",
    "    if h<5 and w<5:\n",
    "        continue\n",
    "    color = [255, 255, 255]\n",
    "    top, bottom, left, right = [1]*4\n",
    "\n",
    "    newimage = cv.copyMakeBorder(newimage, top, bottom, left, right, cv.BORDER_CONSTANT, value=color)\n",
    "    #newimage = \n",
    "    newimage = cv.resize(newimage,(30, 60), interpolation = cv.INTER_CUBIC)\n",
    "    #filter_containor.append(newimage)\n",
    "    \n",
    "    cv.rectangle(temp_img, (x,y), (x+w,y+h), (153,153,0), 1)\n",
    "    if not os.path.isdir(nrootdir):\n",
    "        os.makedirs(nrootdir)\n",
    "    cv.imwrite( nrootdir+str(i)+\".jpg\",newimage)\n",
    "    cv.imwrite( \"temp.jpg\",newimage) \n",
    "    filter_containor.append(Image.open(\"temp.jpg\"))\n",
    "    print (x, y, w, h)\n",
    "#print(filter_containor)\n",
    "plt.imshow(temp_img)\n",
    "plt.show()"
   ]
  },
  {
   "cell_type": "code",
   "execution_count": 215,
   "metadata": {
    "scrolled": false
   },
   "outputs": [
    {
     "data": {
      "image/png": "[encoded data removed]",
      "text/plain": [
       "<Figure size 432x288 with 1 Axes>"
      ]
     },
     "metadata": {
      "needs_background": "light"
     },
     "output_type": "display_data"
    },
    {
     "name": "stdout",
     "output_type": "stream",
     "text": [
      "torch.Size([1, 1, 60, 30])\n",
      "6\n"
     ]
    },
    {
     "name": "stderr",
     "output_type": "stream",
     "text": [
      "/usr/local/lib/python3.6/dist-packages/ipykernel_launcher.py:73: UserWarning: To copy construct from a tensor, it is recommended to use sourceTensor.clone().detach() or sourceTensor.clone().detach().requires_grad_(True), rather than torch.tensor(sourceTensor).\n"
     ]
    },
    {
     "data": {
      "image/png": "[encoded data removed]",
      "text/plain": [
       "<Figure size 432x288 with 1 Axes>"
      ]
     },
     "metadata": {
      "needs_background": "light"
     },
     "output_type": "display_data"
    },
    {
     "name": "stdout",
     "output_type": "stream",
     "text": [
      "torch.Size([1, 1, 60, 30])\n",
      "1\n"
     ]
    },
    {
     "data": {
      "image/png": "[encoded data removed]",
      "text/plain": [
       "<Figure size 432x288 with 1 Axes>"
      ]
     },
     "metadata": {
      "needs_background": "light"
     },
     "output_type": "display_data"
    },
    {
     "name": "stdout",
     "output_type": "stream",
     "text": [
      "torch.Size([1, 1, 60, 30])\n",
      "1\n"
     ]
    },
    {
     "data": {
      "image/png": "[encoded data removed]",
      "text/plain": [
       "<Figure size 432x288 with 1 Axes>"
      ]
     },
     "metadata": {
      "needs_background": "light"
     },
     "output_type": "display_data"
    },
    {
     "name": "stdout",
     "output_type": "stream",
     "text": [
      "torch.Size([1, 1, 60, 30])\n",
      "4\n"
     ]
    },
    {
     "data": {
      "image/png": "[encoded data removed]",
      "text/plain": [
       "<Figure size 432x288 with 1 Axes>"
      ]
     },
     "metadata": {
      "needs_background": "light"
     },
     "output_type": "display_data"
    },
    {
     "name": "stdout",
     "output_type": "stream",
     "text": [
      "torch.Size([1, 1, 60, 30])\n",
      "5\n"
     ]
    }
   ],
   "source": [
    "import torch\n",
    "from torch.autograd import Variable\n",
    "import torch.nn as nn\n",
    "import captcha_setting\n",
    "import operator\n",
    "import torchvision.transforms as transforms\n",
    "from PIL import Image\n",
    "#for eachimg in filter_containor:\n",
    "class CNN(nn.Module):\n",
    "    def __init__(self):\n",
    "        super(CNN, self).__init__()\n",
    "        self.layer1 = nn.Sequential(\n",
    "            nn.Conv2d(1, 32, kernel_size=3, padding=1),\n",
    "            nn.BatchNorm2d(32),\n",
    "            nn.Dropout(0.1),  # drop 50% of the neuron\n",
    "            nn.ReLU(),\n",
    "            nn.MaxPool2d(2))\n",
    "        self.layer2 = nn.Sequential(\n",
    "            nn.Conv2d(32, 64, kernel_size=3, padding=1),\n",
    "            nn.BatchNorm2d(64),\n",
    "            nn.Dropout(0.1),  # drop 50% of the neuron\n",
    "            nn.ReLU(),\n",
    "            nn.MaxPool2d(2))\n",
    "        self.layer3 = nn.Sequential(\n",
    "            nn.Conv2d(64, 64, kernel_size=3, padding=1),\n",
    "            nn.BatchNorm2d(64),\n",
    "            nn.Dropout(0.1),  # drop 50% of the neuron\n",
    "            nn.ReLU(),\n",
    "            nn.MaxPool2d(2))\n",
    "        self.fc = nn.Sequential(\n",
    "            nn.Linear((captcha_setting.IMAGE_WIDTH//8)*(captcha_setting.IMAGE_HEIGHT//8)*64, 1024),\n",
    "            nn.Dropout(0.1),  # drop 50% of the neuron\n",
    "            nn.ReLU())\n",
    "        self.rfc = nn.Sequential(\n",
    "            nn.Linear(1024, 256),#captcha_setting.MAX_CAPTCHA*captcha_setting.ALL_CHAR_SET_LEN),\n",
    "            nn.ReLU()\n",
    "        )\n",
    "        self.rfc2 = nn.Sequential(\n",
    "            nn.Linear(256, captcha_setting.MAX_CAPTCHA*captcha_setting.ALL_CHAR_SET_LEN),\n",
    "        )\n",
    "\n",
    "    def forward(self, x):\n",
    "        out = self.layer1(x)\n",
    "        out = self.layer2(out)\n",
    "        out = self.layer3(out)\n",
    "        out = out.view(out.size(0), -1)\n",
    "        out = self.fc(out)\n",
    "        #print(out.shape)\n",
    "        out = self.rfc(out)\n",
    "        out = self.rfc2(out)\n",
    "        #out = out.view(out.size(0), -1)\n",
    "        #print(out.shape)\n",
    "        return out\n",
    "device = torch.device(\"cuda:0\" if torch.cuda.is_available() else \"cpu\")\n",
    "cnn = CNN()\n",
    "cnn = CNN()\n",
    "cnn.eval()\n",
    "cnn.load_state_dict(torch.load('model_digit.pkl'))\n",
    "cnn.to(device)\n",
    "transform = transforms.Compose([\n",
    "    # transforms.ColorJitter(),\n",
    "    transforms.Grayscale(),\n",
    "    transforms.ToTensor(),\n",
    "    # transforms.Normalize(mean=[0.485, 0.456, 0.406], std=[0.229, 0.224, 0.225])\n",
    "])\n",
    "for eachimg in filter_containor:\n",
    "    #print(eachimg)\n",
    "    image = transform(eachimg).unsqueeze(0)\n",
    "    plt.imshow(eachimg)\n",
    "    plt.show()\n",
    "    print(image.shape)\n",
    "    \n",
    "    image = torch.tensor(image, device=device).float()\n",
    "    image = Variable(image).to(device)\n",
    "    #print(image.shape)\n",
    "    #image, labels =  image.to(device), labels.to(device)\n",
    "    # vimage = generator(image)\n",
    "    predict_label = cnn(image)\n",
    "    #labels = labels.cpu()\n",
    "    predict_label = predict_label.cpu()\n",
    "    _, predicted = torch.max(predict_label, 1)\n",
    "    print(captcha_setting.ALL_CHAR_SET[predicted])"
   ]
  },
  {
   "cell_type": "code",
   "execution_count": null,
   "metadata": {},
   "outputs": [],
   "source": []
  }
 ],
 "metadata": {
  "kernelspec": {
   "display_name": "Python 3",
   "language": "python",
   "name": "python3"
  },
  "language_info": {
   "codemirror_mode": {
    "name": "ipython",
    "version": 3
   },
   "file_extension": ".py",
   "mimetype": "text/x-python",
   "name": "python",
   "nbconvert_exporter": "python",
   "pygments_lexer": "ipython3",
   "version": "3.6.8"
  }
 },
 "nbformat": 4,
 "nbformat_minor": 2
}
