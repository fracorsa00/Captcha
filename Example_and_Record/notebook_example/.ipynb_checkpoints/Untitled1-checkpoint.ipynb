{
 "cells": [
  {
   "cell_type": "markdown",
   "metadata": {},
   "source": [
    "# Using GAN to remove background"
   ]
  },
  {
   "cell_type": "code",
   "execution_count": 1,
   "metadata": {},
   "outputs": [
    {
     "name": "stderr",
     "output_type": "stream",
     "text": [
      "/home/ning_a/.local/lib/python3.6/site-packages/requests/__init__.py:91: RequestsDependencyWarning: urllib3 (1.25.7) or chardet (3.0.4) doesn't match a supported version!\n",
      "  RequestsDependencyWarning)\n"
     ]
    }
   ],
   "source": [
    "import sys, os\n",
    "sys.path.insert(1, '/home/ning_a/Desktop/CAPTCHA/base_solver/pytorch-captcha-recognition')\n",
    "import torch\n",
    "import torch.nn as nn\n",
    "from torch.autograd import Variable\n",
    "import my_dataset\n",
    "from captcha_cnn_model import CNN, Generator\n",
    "from datetime import datetime\n",
    "import pickle\n",
    "from torchvision.utils import save_image"
   ]
  },
  {
   "cell_type": "code",
   "execution_count": 2,
   "metadata": {},
   "outputs": [
    {
     "data": {
      "text/plain": [
       "Generator(\n",
       "  (conv_blocks): Sequential(\n",
       "    (0): Conv2d(1, 64, kernel_size=(3, 3), stride=(1, 1), padding=(1, 1))\n",
       "    (1): BatchNorm2d(64, eps=0.8, momentum=0.1, affine=True, track_running_stats=True)\n",
       "    (2): LeakyReLU(negative_slope=0.5, inplace)\n",
       "    (3): Conv2d(64, 128, kernel_size=(3, 3), stride=(1, 1), padding=(1, 1))\n",
       "    (4): BatchNorm2d(128, eps=0.8, momentum=0.1, affine=True, track_running_stats=True)\n",
       "    (5): LeakyReLU(negative_slope=0.5, inplace)\n",
       "    (6): Conv2d(128, 128, kernel_size=(3, 3), stride=(1, 1), padding=(1, 1))\n",
       "    (7): BatchNorm2d(128, eps=0.8, momentum=0.1, affine=True, track_running_stats=True)\n",
       "    (8): LeakyReLU(negative_slope=0.2, inplace)\n",
       "    (9): Conv2d(128, 64, kernel_size=(3, 3), stride=(1, 1), padding=(1, 1))\n",
       "    (10): BatchNorm2d(64, eps=0.8, momentum=0.1, affine=True, track_running_stats=True)\n",
       "    (11): LeakyReLU(negative_slope=0.2, inplace)\n",
       "    (12): Conv2d(64, 1, kernel_size=(3, 3), stride=(1, 1), padding=(1, 1))\n",
       "    (13): Tanh()\n",
       "  )\n",
       ")"
      ]
     },
     "execution_count": 2,
     "metadata": {},
     "output_type": "execute_result"
    }
   ],
   "source": [
    "origin_path = '/home/ning_a/Desktop/CAPTCHA/base_solver/pytorch-captcha-recognition/'\n",
    "target_path = '/home/ning_a/Desktop/CAPTCHA/test_generator/GAN_REMOVED/test_100k_4_digit_only/'\n",
    "device = torch.device(\"cuda:0\" )\n",
    "generator = Generator()\n",
    "generator.load_state_dict(torch.load(origin_path+'7800.pkl'))\n",
    "generator.to(device)\n",
    "generator.eval()"
   ]
  },
  {
   "cell_type": "code",
   "execution_count": 3,
   "metadata": {},
   "outputs": [
    {
     "name": "stdout",
     "output_type": "stream",
     "text": [
      "loading data\n",
      "data path:  /home/ning_a/Desktop/CAPTCHA/test_generator/test_100k_4_digit_only\n",
      "start training\n"
     ]
    }
   ],
   "source": [
    "print('loading data')\n",
    "train_dataloader = my_dataset.get_train_data_loader(s=True, d=1)\n",
    "print('start training')\n",
    "if not os.path.exists(target_path):\n",
    "    os.makedirs(target_path)\n",
    "for i, (images1, labels, file_name,) in enumerate(train_dataloader):\n",
    "    images1 = Variable(images1)\n",
    "    labels = Variable(labels.float())\n",
    "    images1, labels =  images1.to(device), labels.to(device)\n",
    "    images = generator(images1)\n",
    "    #print(file_name[0])\n",
    "    save_image(images.cpu()[0], target_path+file_name[0])"
   ]
  },
  {
   "cell_type": "code",
   "execution_count": null,
   "metadata": {},
   "outputs": [],
   "source": []
  },
  {
   "cell_type": "code",
   "execution_count": 2,
   "metadata": {},
   "outputs": [],
   "source": [
    "import cv2 as cv\n",
    "from matplotlib import pyplot as plt\n",
    "import os\n",
    "import numpy as np"
   ]
  },
  {
   "cell_type": "code",
   "execution_count": 6,
   "metadata": {},
   "outputs": [],
   "source": [
    "source_path = '/home/ning_a/Desktop/CAPTCHA/dark_web_captcha/elite_data/'\n",
    "save_path = '/home/ning_a/Desktop/CAPTCHA/dark_web_captcha/elite_data_clean/'\n",
    "for i in os.listdir(source_path):\n",
    "    img = cv.imread(source_path+i)\n",
    "#     lower_range = np.array([240,240,240])  # Set the Lower range value of color in BGR\n",
    "#     upper_range = np.array([255,255,255])   # Set the Upper range value of color in BGR\n",
    "#     mask = cv.inRange(img,lower_range,upper_range) # Create a mask with range\n",
    "#     img = cv.bitwise_and(img,img,mask = mask)\n",
    "    element = cv.getStructuringElement(cv.MORPH_RECT, (2,2))\n",
    "    mask = cv.dilate(img, element, iterations = 2)\n",
    "    mask = cv.erode(mask, element, iterations = 2)\n",
    "    mask = cv.dilate(mask, element, iterations = 1)\n",
    "    mask = cv.erode(mask, element)\n",
    "    cv.imwrite( save_path+i,mask) \n",
    "#     plt.imshow(mask)\n",
    "#     plt.show()\n",
    "#     print(img)\n",
    "#     break\n",
    "\n"
   ]
  },
  {
   "cell_type": "code",
   "execution_count": null,
   "metadata": {},
   "outputs": [],
   "source": []
  }
 ],
 "metadata": {
  "kernelspec": {
   "display_name": "Python 3",
   "language": "python",
   "name": "python3"
  },
  "language_info": {
   "codemirror_mode": {
    "name": "ipython",
    "version": 3
   },
   "file_extension": ".py",
   "mimetype": "text/x-python",
   "name": "python",
   "nbconvert_exporter": "python",
   "pygments_lexer": "ipython3",
   "version": "3.6.9"
  }
 },
 "nbformat": 4,
 "nbformat_minor": 2
}
